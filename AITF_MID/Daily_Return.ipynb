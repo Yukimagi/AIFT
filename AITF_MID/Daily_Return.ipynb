{
 "cells": [
  {
   "cell_type": "code",
   "execution_count": null,
   "id": "79da2c2a",
   "metadata": {},
   "outputs": [],
   "source": [
    "# 第三方套件 yfinance, 可用來串接 Yahoo Finance API 下載股票的價量資訊. 而且拿到的資料就是 Pandas 的 DataFrame\n",
    "import yfinance as yf\n",
    "import pandas as pd\n",
    "import csv\n",
    "import matplotlib.pyplot as plt\n",
    "\n",
    "# 設定股票代號範圍\n",
    "start_symbol = 1101\n",
    "end_symbol =9999\n",
    "\n",
    "# 創建一個空的DataFrame，用於存儲所有股票的數據\n",
    "\n",
    "\n",
    "dict_test={}#測試是否有此股票公司\n",
    "\n",
    "# 迭代每個股票代號\n",
    "for symbol in range(start_symbol, end_symbol + 1):\n",
    "    try:\n",
    "        for i in range(1950,2023):\n",
    "            # 使用yfinance獲取股票數據\n",
    "            symbol_str = f\"{symbol}.TW\"  # 在台灣股市中，股票代號需要加上.TW\n",
    "            #抓取最小開始資料的時間到2023-10-29\n",
    "            data = yf.download(symbol_str, start=f'{i}-01-01', end=\"2023-10-29\")\n",
    "\n",
    "            # 計算每日回報率並加到dictionary中\n",
    "            data['Daily_Return'] = (data['Close']-data['Close'].shift(1)) / data['Close'].shift(1)\n",
    "\n",
    "            # 添加股票代號列並加到dictionary中\n",
    "            data['Symbol'] = symbol\n",
    "            #建立稍後要存的數據pandas\n",
    "            all_data = pd.DataFrame()\n",
    "            # 將每支股票的數據添加到總數據中\n",
    "            all_data = pd.concat([all_data, data])\n",
    "            if not all_data.empty:\n",
    "                # 將結果保存為CSV文件\n",
    "                all_data.to_csv(f'price_data_all/{symbol}_price.csv')\n",
    "                dict_test[symbol]=1\n",
    "                #繪製Adj Close price的時間序列圖(老師說可以用adj close)\n",
    "                symbol_data = all_data[all_data['Symbol'] == symbol]\n",
    "                plt.figure(figsize=(10, 6))\n",
    "                plt.plot(symbol_data.index, symbol_data['Adj Close'], label=f\"Stock {symbol}\")\n",
    "                plt.title(f\"Stock {symbol} Price Time Series\")\n",
    "                plt.xlabel(\"Date\")\n",
    "                plt.ylabel(\"Price\")\n",
    "                plt.legend()\n",
    "                #存檔\n",
    "                plt.savefig(f\"price_time_series/stock_{symbol}_adjclose_time_series.png\")\n",
    "                plt.close()\n",
    "            else:\n",
    "                print(f'無{symbol}資料')\n",
    "            break\n",
    "    except:\n",
    "        print('except')\n",
    "        dict_test[symbol]=0\n",
    "        pass"
   ]
  },
  {
   "cell_type": "code",
   "execution_count": null,
   "id": "6d6ead06",
   "metadata": {},
   "outputs": [],
   "source": []
  }
 ],
 "metadata": {
  "kernelspec": {
   "display_name": "Python 3 (ipykernel)",
   "language": "python",
   "name": "python3"
  },
  "language_info": {
   "codemirror_mode": {
    "name": "ipython",
    "version": 3
   },
   "file_extension": ".py",
   "mimetype": "text/x-python",
   "name": "python",
   "nbconvert_exporter": "python",
   "pygments_lexer": "ipython3",
   "version": "3.11.4"
  }
 },
 "nbformat": 4,
 "nbformat_minor": 5
}
