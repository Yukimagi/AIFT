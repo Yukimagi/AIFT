{
 "cells": [
  {
   "cell_type": "code",
   "execution_count": 4,
   "id": "75b56641",
   "metadata": {},
   "outputs": [
    {
     "name": "stdout",
     "output_type": "stream",
     "text": [
      "         Date       Open       High        Low      Close  Adj Close  \\\n",
      "0  2000-01-04  15.416665  15.781559  15.416665  15.781559   4.880246   \n",
      "\n",
      "         Volume  Daily_Return  Symbol  \n",
      "0  112224035437           NaN    1101  \n"
     ]
    }
   ],
   "source": [
    "import pandas as pd\n",
    "import matplotlib.pyplot as plt\n",
    "import os\n",
    "def find_stock_data(symbol, company_code, date):\n",
    "    try:\n",
    "        # 構建CSV檔案的路徑\n",
    "        file_path = f'price_data_all/{symbol}_price.csv'\n",
    "\n",
    "        # 嘗試讀取CSV檔案\n",
    "        df = pd.read_csv(file_path)\n",
    "\n",
    "        # 在讀取的DataFrame中找到符合條件的資料\n",
    "        filtered_data = df[(df['Symbol'] == company_code) & (df['Date'] == date)]\n",
    "\n",
    "        if not filtered_data.empty:\n",
    "            # 資料存在，輸出找到的資料\n",
    "            print(filtered_data)\n",
    "        else:\n",
    "            print(f'找不到{symbol}的{date}資料')\n",
    "    except FileNotFoundError:\n",
    "        print(f'無{symbol}的股票公司')\n",
    "\n",
    "# 輸入股票代號、公司代號和日期\n",
    "symbol = 1101\n",
    "company_code = 1101\n",
    "date = '2000-01-04'\n",
    "'''\n",
    "結果範例(會有所有股價與daily return)\n",
    "Date       Open       High        Low      Close  Adj Close  \\\n",
    "0  2000-01-04  15.416665  15.781559  15.416665  15.781559   4.880246   \n",
    "\n",
    "         Volume  Daily_Return  Symbol  \n",
    "0  112224035437           NaN    1101  \n",
    "'''\n",
    "# 執行函數以查找資料\n",
    "find_stock_data(symbol, company_code, date)"
   ]
  },
  {
   "cell_type": "code",
   "execution_count": null,
   "id": "b132e44d",
   "metadata": {},
   "outputs": [],
   "source": []
  }
 ],
 "metadata": {
  "kernelspec": {
   "display_name": "Python 3 (ipykernel)",
   "language": "python",
   "name": "python3"
  },
  "language_info": {
   "codemirror_mode": {
    "name": "ipython",
    "version": 3
   },
   "file_extension": ".py",
   "mimetype": "text/x-python",
   "name": "python",
   "nbconvert_exporter": "python",
   "pygments_lexer": "ipython3",
   "version": "3.11.4"
  }
 },
 "nbformat": 4,
 "nbformat_minor": 5
}
